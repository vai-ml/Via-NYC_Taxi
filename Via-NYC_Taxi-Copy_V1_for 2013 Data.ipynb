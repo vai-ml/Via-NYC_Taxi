{
 "cells": [
  {
   "cell_type": "markdown",
   "metadata": {},
   "source": [
    "## Name: Swami Venkat\n",
    "## Date: 12/3/2019\n"
   ]
  },
  {
   "cell_type": "code",
   "execution_count": 1,
   "metadata": {},
   "outputs": [],
   "source": [
    "# Importing important libraries\n",
    "import pandas as pd\n",
    "import numpy as np\n",
    "import math\n",
    "import matplotlib.pyplot as plt\n",
    "import datetime\n",
    "import seaborn as sns\n",
    "import json\n",
    "import folium\n",
    "from folium.plugins import HeatMapWithTime\n",
    "from folium.plugins import HeatMap\n",
    "import os.path\n",
    "from os import path\n",
    "import matplotlib.cm as cm\n",
    "import warnings\n",
    "from matplotlib.ticker import MultipleLocator\n",
    "warnings.filterwarnings('ignore')\n",
    "from time import process_time"
   ]
  },
  {
   "cell_type": "code",
   "execution_count": 2,
   "metadata": {},
   "outputs": [
    {
     "name": "stdout",
     "output_type": "stream",
     "text": [
      "<class 'pandas.core.frame.DataFrame'>\n",
      "RangeIndex: 11135470 entries, 0 to 11135469\n",
      "Data columns (total 19 columns):\n",
      "VendorID                 int64\n",
      "tpep_pickup_datetime     object\n",
      "tpep_dropoff_datetime    object\n",
      "passenger_count          int64\n",
      "trip_distance            float64\n",
      "pickup_longitude         float64\n",
      "pickup_latitude          float64\n",
      "RatecodeID               int64\n",
      "store_and_fwd_flag       object\n",
      "dropoff_longitude        float64\n",
      "dropoff_latitude         float64\n",
      "payment_type             int64\n",
      "fare_amount              float64\n",
      "extra                    float64\n",
      "mta_tax                  float64\n",
      "tip_amount               float64\n",
      "tolls_amount             float64\n",
      "improvement_surcharge    float64\n",
      "total_amount             float64\n",
      "dtypes: float64(12), int64(4), object(3)\n",
      "memory usage: 1.6+ GB\n"
     ]
    }
   ],
   "source": [
    "trips_yc_2016 = pd.read_csv('./Data/trip_data/yellow_tripdata_2016-06.csv' , low_memory=False)\n",
    "trips_yc_2016.info()"
   ]
  },
  {
   "cell_type": "code",
   "execution_count": null,
   "metadata": {},
   "outputs": [],
   "source": [
    "trips_yc_2013_p1 = pd.read_csv('./Data/trip_data/trip_data_1.csv', low_memory=False)\n",
    "trips_yc_2013_p1.info()"
   ]
  },
  {
   "cell_type": "code",
   "execution_count": 4,
   "metadata": {},
   "outputs": [
    {
     "name": "stdout",
     "output_type": "stream",
     "text": [
      "-73.90665099473267 40.87903804730722 -74.01092841268031 40.68291694544512\n"
     ]
    }
   ],
   "source": [
    "with open('./Borough Boundaries.geojson') as f:\n",
    "    js = json.load(f)\n",
    "\n",
    "man_cord_list = js['features'][4]['geometry']['coordinates']\n",
    "flat_list1 = [item for sublist in man_cord_list for item in sublist]\n",
    "man_cord = [item for sublist in flat_list1 for item in sublist]\n",
    "max_lt,max_lng,min_lt,min_lng =0,0,999,999\n",
    "for a,b in man_cord:\n",
    "    \n",
    "    if abs(a) > max_lng:\n",
    "        max_lng = a\n",
    "    if abs(b) > max_lt: \n",
    "        max_lt = b\n",
    "    if abs(a) < min_lng:\n",
    "        min_lng = a\n",
    "    if abs(b) < min_lt: \n",
    "        min_lt = b\n",
    "print(max_lng, max_lt, min_lng, min_lt)"
   ]
  },
  {
   "cell_type": "code",
   "execution_count": null,
   "metadata": {},
   "outputs": [],
   "source": [
    "def filter_df(df):\n",
    "    df = df.drop(columns = ['medallion', 'hack_license', 'vendor_id', 'store_and_fwd_flag',\n",
    "                            'dropoff_datetime','trip_time_in_secs','rate_code' ])\n",
    "    df = df.loc[df['trip_distance']>0]\n",
    "    df = df.loc[df['trip_distance']>0]\n",
    "    \n",
    "    df = df[(df != 0).all(1)]\n",
    "    df = df.loc[(df['passenger_count']>0) & (df['passenger_count']<5)]\n",
    "    df = df.sort_values(by='pickup_datetime',kind='heapsort', ascending=True)\n",
    "    \n",
    "    \n",
    "    df = df.loc[(df['pickup_latitude']>=min_lt) & \n",
    "                (df['pickup_latitude']<= max_lt) & \n",
    "                (df['pickup_longitude']>=min_lng) & \n",
    "                (df['pickup_longitude']<= max_lng)]\n",
    "    df = df.loc[(df['dropoff_latitude']>=min_lt) & \n",
    "                (df['dropoff_latitude']<= max_lt) & \n",
    "                (df['dropoff_longitude']>=min_lng) & \n",
    "                (df['dropoff_longitude']<= max_lng)]\n",
    "    \n",
    " \n",
    "    df = df.round(4)    \n",
    "\n",
    "    df = df.dropna()\n",
    "    df = df.reset_index(drop=True)\n",
    "    return df"
   ]
  },
  {
   "cell_type": "code",
   "execution_count": null,
   "metadata": {},
   "outputs": [],
   "source": [
    "def parse_timestamp(df):\n",
    "    \n",
    "    df['pickup_datetime'] = pd.to_datetime(df['pickup_datetime'],format='%Y-%m-%d %H:%M:%S', errors='coerce')\n",
    "    df['Timestamp'] = pd.to_datetime(df['pickup_datetime'].dt.round(freq = '15 min'))\n",
    "    df['Date'] = (df['Timestamp']).dt.date\n",
    "    df['Time'] = (df['Timestamp']).dt.time\n",
    "    df['Day'] = df['pickup_datetime'].dt.strftime('%A')\n",
    "    return df"
   ]
  },
  {
   "cell_type": "code",
   "execution_count": null,
   "metadata": {},
   "outputs": [],
   "source": [
    "trips_yc_2013 = filter_df(parse_timestamp(trips_yc_2013_p1))\n",
    "trips_yc_2013.info()"
   ]
  },
  {
   "cell_type": "code",
   "execution_count": null,
   "metadata": {},
   "outputs": [],
   "source": [
    "import json\n",
    "from shapely.geometry import shape, Point\n",
    "\n",
    "\n",
    "def fill_boro(df):\n",
    "    with open('./Borough Boundaries.geojson') as f:\n",
    "        js = json.load(f)\n",
    "\n",
    "    pu_point_list = df[['pickup_longitude', 'pickup_latitude']].values.tolist()\n",
    "    do_point_list = df[['dropoff_longitude', 'dropoff_latitude']].values.tolist()\n",
    "\n",
    "    boro_list = [0] * len(df)\n",
    "    \n",
    "    count = 0\n",
    "    for pu,do in zip(pu_point_list,do_point_list):\n",
    "        point_pu = Point(pu)\n",
    "        point_do = Point(do)\n",
    "        feature = js['features'][4]\n",
    "        polygon = shape(feature['geometry'])\n",
    "        if polygon.contains(point_pu) and polygon.contains(point_do):\n",
    "                boro_list[pu_point_list.index(pu)] = feature['properties']['boro_name']\n",
    "\n",
    "    df['Ride_Boro'] = boro_list\n",
    "    df= df.loc[df.Ride_Boro == 'Manhattan']\n",
    "    \n",
    "    return df"
   ]
  },
  {
   "cell_type": "code",
   "execution_count": null,
   "metadata": {},
   "outputs": [],
   "source": [
    "grouped_df = trips_yc_2013.groupby([\"Date\", \"Time\"]).size().reset_index().sort_values(by = [0], ascending=False)\n",
    "grouped_df= grouped_df.reset_index(drop=True)\n",
    "grouped_df"
   ]
  },
  {
   "cell_type": "code",
   "execution_count": null,
   "metadata": {},
   "outputs": [],
   "source": [
    "from sklearn.cluster import KMeans\n",
    "\n",
    "df_train_raw = trips_yc_2013.loc[(trips_yc_2013['Date']==grouped_df['Date'][0]) & \n",
    "                                 (trips_yc_2013['Time']==grouped_df['Time'][0])]\n",
    "\n",
    "df_train = fill_boro(df_train_raw)\n",
    "train = df_train[['pickup_latitude' ,'pickup_longitude','dropoff_latitude' , 'dropoff_longitude']].copy()"
   ]
  },
  {
   "cell_type": "code",
   "execution_count": null,
   "metadata": {},
   "outputs": [],
   "source": [
    "distortions = []\n",
    "step_size = int((len(train)//1.25 - len(train)//1.5)//10)\n",
    "cluster_range = np.arange(int(len(train)//1.5), int(len(train)//1.25),step_size)\n",
    "for i in cluster_range:\n",
    "    kmeans = KMeans(n_clusters=i, random_state=0).fit(train)\n",
    "    distortions.append(kmeans.inertia_)\n",
    "    if kmeans.inertia_ < 0.0025:\n",
    "        break\n",
    "plt.plot(cluster_range, distortions, marker='o')\n",
    "plt.xlabel('Number of clusters')\n",
    "plt.ylabel('Distortion')\n",
    "plt.tight_layout()\n",
    "plt.show()\n",
    "df_train['cluster'] = kmeans.labels_"
   ]
  },
  {
   "cell_type": "code",
   "execution_count": null,
   "metadata": {},
   "outputs": [],
   "source": [
    "df_train['cluster'].hist(bins=100)"
   ]
  },
  {
   "cell_type": "code",
   "execution_count": null,
   "metadata": {},
   "outputs": [],
   "source": [
    "xy = df_train['cluster'].value_counts()\n",
    "xy.index[0]"
   ]
  },
  {
   "cell_type": "code",
   "execution_count": null,
   "metadata": {},
   "outputs": [],
   "source": [
    "cl_count = df_train['cluster'].value_counts()\n",
    "cl_count= cl_count.reset_index()\n",
    "cl_count = cl_count.rename(columns={'index': 'Cluster_Label', 'cluster': 'Count'})\n",
    "max_cluster = cl_count['Cluster_Label'][0]\n",
    "print(len(cl_count.loc[cl_count['Count']==1]))\n",
    "cl_count"
   ]
  },
  {
   "cell_type": "code",
   "execution_count": null,
   "metadata": {},
   "outputs": [],
   "source": [
    "y= df_train.groupby(['cluster'])['passenger_count'].agg(['sum']).sort_values(['sum'], ascending=False)\n",
    "y['trips'] = np.ceil(y['sum']/4)\n",
    "print('Total Passengers = ', y['sum'].sum(), ' and Total Trips = ', y['trips'].sum())\n",
    "y.head()"
   ]
  },
  {
   "cell_type": "code",
   "execution_count": null,
   "metadata": {},
   "outputs": [],
   "source": [
    "df_train.loc[df_train['cluster']==max_cluster]"
   ]
  },
  {
   "cell_type": "code",
   "execution_count": null,
   "metadata": {},
   "outputs": [],
   "source": [
    "max_cluster = cl_count['Cluster_Label'][100]\n",
    "df_cluster10 = df_train.loc[df_train['cluster']==max_cluster]\n",
    "lis_pu = df_cluster10[['pickup_latitude', 'pickup_longitude']].values.tolist()\n",
    "lis_do = df_cluster10[['dropoff_latitude', 'dropoff_longitude']].values.tolist()"
   ]
  },
  {
   "cell_type": "code",
   "execution_count": null,
   "metadata": {},
   "outputs": [],
   "source": [
    "all_clusters_pu = kmeans.cluster_centers_[:,:2]\n",
    "all_clusters_do = kmeans.cluster_centers_[:,2:4]"
   ]
  },
  {
   "cell_type": "code",
   "execution_count": null,
   "metadata": {},
   "outputs": [],
   "source": [
    "nyc_coor = [40.7128, -74.0060]\n",
    "\n",
    "def generateBaseMap(default_location=nyc_coor, default_zoom_start=8.5):\n",
    "    base_map = folium.Map(location=default_location, control_scale=True, zoom_start=default_zoom_start)\n",
    "    return base_map"
   ]
  },
  {
   "cell_type": "code",
   "execution_count": null,
   "metadata": {},
   "outputs": [],
   "source": [
    "base_map = generateBaseMap(default_zoom_start=12)\n",
    "for location in lis_pu:\n",
    "    folium.Marker(location,\n",
    "              icon=folium.Icon(color='red', icon='info-sign')\n",
    "              ).add_to(base_map)\n",
    "for location in lis_do:\n",
    "    folium.Marker(location,\n",
    "              icon=folium.Icon(color='blue', icon='info-sign')\n",
    "              ).add_to(base_map)\n",
    "    \n",
    "folium.Marker(kmeans.cluster_centers_[max_cluster][:2],\n",
    "              icon=folium.Icon(color='green', icon = 'home')\n",
    "               ).add_to(base_map)\n",
    "folium.Marker(kmeans.cluster_centers_[max_cluster][2:4],\n",
    "              icon=folium.Icon(color='orange', icon = 'home')\n",
    "               ).add_to(base_map)\n",
    "\n",
    "base_map"
   ]
  },
  {
   "cell_type": "code",
   "execution_count": null,
   "metadata": {},
   "outputs": [],
   "source": [
    "col_list = list(trips_yc_2013.columns) \n",
    "x= pd.DataFrame(columns=col_list)\n",
    "for i in range(5):\n",
    "    if trips_yc_2013['passenger_count'][i]>3:\n",
    "        trip_count+=1\n",
    "    else:\n",
    "        trips_yc_2013['passenger_count'][i]\n",
    "        "
   ]
  },
  {
   "cell_type": "code",
   "execution_count": null,
   "metadata": {},
   "outputs": [],
   "source": [
    "trips_rate_month=trips_yc_2013.groupby(['PU_Hour'])['Rate'].agg(['mean']).sort_values(['mean'], ascending=True)\n",
    "trips_rate_month['Total_Trips'] = trips_yc_2013.groupby(['PU_Hour'])['Rate'].agg(['count']).sort_values(['count'])\n",
    "trips_rate_month = trips_rate_month.rename(columns={'mean': 'Mean Trip Mile/Min'})\n",
    "trips_rate_month['Avg Trip Distance']=trips_yc_2013.groupby(['PU_Hour'])['trip_distance'].agg(['mean']).sort_values(['mean'])\n",
    "trips_rate_month = trips_rate_month.reset_index()\n",
    "#cat_month = ['January', 'February', 'March', 'April','May', 'June', 'July', 'August', 'September', 'October', 'November', 'December']\n",
    "#trips_rate_month['Month'] = pd.Categorical(trips_rate_month['Month'], ordered=True, categories=cat_month)\n",
    "\n",
    "#colors = cm.nipy_spectral(np.linspace(0, 1, trips_rate_month['Month'].nunique()+2))\n",
    "fig, ax = plt.subplots(2,figsize=(15,20), sharex=True)\n",
    "\n",
    "plot_1 = sns.lineplot(x=\"PU_Hour\", y=\"Total_Trips\",palette=colors, linewidth=4,\n",
    "                  data=trips_rate_month, ax=ax[0],marker='o',legend=False)\n",
    "plot_2 = sns.lineplot(x=\"PU_Hour\", y=\"Mean Trip Mile/Min\",linewidth=4,palette=colors ,\n",
    "                  data=trips_rate_month,marker='o', ax= ax[1]);\n",
    "plt.xlabel(xlabel = 'Time of the Day (24HRS FORMAT)')\n",
    "plt.legend(bbox_to_anchor=(1.05, 1.5), loc=2, borderaxespad=0.)\n",
    "plot_1.xaxis.set_major_locator(MultipleLocator(2))"
   ]
  },
  {
   "cell_type": "code",
   "execution_count": null,
   "metadata": {},
   "outputs": [],
   "source": [
    "trips_yc_2013['PU_Hour'].hist()"
   ]
  },
  {
   "cell_type": "code",
   "execution_count": null,
   "metadata": {},
   "outputs": [],
   "source": [
    "trips_yc_2013['passenger_count'].hist()"
   ]
  },
  {
   "cell_type": "code",
   "execution_count": null,
   "metadata": {},
   "outputs": [],
   "source": [
    "trips_yc_2013 = trips_yc_2013.round(3)"
   ]
  },
  {
   "cell_type": "code",
   "execution_count": null,
   "metadata": {},
   "outputs": [],
   "source": [
    "trips_yc_2013.groupby(['pickup_longitude', 'pickup_latitude','dropoff_longitude', 'dropoff_latitude']).ngroups"
   ]
  },
  {
   "cell_type": "code",
   "execution_count": null,
   "metadata": {},
   "outputs": [],
   "source": [
    "def haversine_np(lon1, lat1, lon2, lat2):\n",
    "    lon1, lat1, lon2, lat2 = map(np.radians, [lon1, lat1, lon2, lat2])\n",
    "\n",
    "    dlon = lon2 - lon1\n",
    "    dlat = lat2 - lat1\n",
    "\n",
    "    a = np.sin(dlat/2.0)**2 + np.cos(lat1) * np.cos(lat2) * np.sin(dlon/2.0)**2\n",
    "\n",
    "    c = 2 * np.arcsin(np.sqrt(a))\n",
    "    distance = 3958.8 * c\n",
    "    return distance"
   ]
  },
  {
   "cell_type": "code",
   "execution_count": null,
   "metadata": {},
   "outputs": [],
   "source": [
    "haversine_np(45.00,45.00,45.005,45.005)"
   ]
  },
  {
   "cell_type": "code",
   "execution_count": null,
   "metadata": {},
   "outputs": [],
   "source": [
    "import json\n",
    "from shapely.geometry import shape, Point\n",
    "# depending on your version, use: from shapely.geometry import shape, Point\n",
    "\n",
    "# load GeoJSON file containing sectors\n",
    "with open('./Borough Boundaries.geojson') as f:\n",
    "    js = json.load(f)\n",
    "\n",
    "# construct point based on lon/lat returned by geocoder\n",
    "point = Point(-73.9911, 40.7359)\n",
    "\n",
    "# check each polygon to see if it contains the point\n",
    "for feature in js['features']:\n",
    "    polygon = shape(feature['geometry'])\n",
    "    if polygon.contains(point):\n",
    "        print ('Found containing polygon:', feature['properties']['boro_name'])"
   ]
  },
  {
   "cell_type": "code",
   "execution_count": null,
   "metadata": {},
   "outputs": [],
   "source": []
  },
  {
   "cell_type": "code",
   "execution_count": null,
   "metadata": {},
   "outputs": [],
   "source": [
    "top10_pickup = df_prep.groupby(['pickup_latitude','pickup_longitude'])['medallion'].agg(['count']).sort_values(['count'],ascending=False).head(20)\n"
   ]
  },
  {
   "cell_type": "code",
   "execution_count": null,
   "metadata": {},
   "outputs": [],
   "source": [
    "\n",
    "base_map = generateBaseMap(default_zoom_start=12)\n",
    "for lat,long in top10_pickup.index:\n",
    "    folium.Marker([lat,long], popup='<i>Chicago City Center</i>').add_to(base_map)\n",
    "base_map.save('./Top5_pickup_locations.html')\n",
    "base_map"
   ]
  },
  {
   "cell_type": "code",
   "execution_count": null,
   "metadata": {},
   "outputs": [],
   "source": [
    "top10_dropoffs = df_prep.groupby(['dropoff_latitude','dropoff_longitude'])['Count'].agg(['count']).sort_values(['count'],ascending=False).head(20)\n"
   ]
  },
  {
   "cell_type": "code",
   "execution_count": null,
   "metadata": {},
   "outputs": [],
   "source": [
    "base_map = generateBaseMap(default_zoom_start=12)\n",
    "for lat,long in top10_pickup.index:\n",
    "    folium.Marker([lat,long], popup='<i>Chicago City Center</i>').add_to(base_map)\n",
    "base_map.save('./Top5_pickup_locations.html')\n",
    "base_map"
   ]
  },
  {
   "cell_type": "code",
   "execution_count": null,
   "metadata": {},
   "outputs": [],
   "source": []
  }
 ],
 "metadata": {
  "kernelspec": {
   "display_name": "Python 3",
   "language": "python",
   "name": "python3"
  },
  "language_info": {
   "codemirror_mode": {
    "name": "ipython",
    "version": 3
   },
   "file_extension": ".py",
   "mimetype": "text/x-python",
   "name": "python",
   "nbconvert_exporter": "python",
   "pygments_lexer": "ipython3",
   "version": "3.7.4"
  }
 },
 "nbformat": 4,
 "nbformat_minor": 2
}
