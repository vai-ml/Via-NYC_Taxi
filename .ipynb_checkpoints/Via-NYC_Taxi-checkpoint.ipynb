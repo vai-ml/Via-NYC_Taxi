{
 "cells": [
  {
   "cell_type": "markdown",
   "metadata": {},
   "source": [
    "## Name: Swami Venkat\n",
    "## Date: 12/3/2019\n"
   ]
  },
  {
   "cell_type": "code",
   "execution_count": 12,
   "metadata": {},
   "outputs": [],
   "source": [
    "# Importing important libraries\n",
    "import pandas as pd\n",
    "import numpy as np\n",
    "import math\n",
    "import matplotlib.pyplot as plt\n",
    "import datetime\n",
    "import seaborn as sns\n",
    "import json\n",
    "import folium\n",
    "from folium.plugins import HeatMapWithTime\n",
    "from folium.plugins import HeatMap\n",
    "import os.path\n",
    "from os import path\n",
    "import matplotlib.cm as cm\n",
    "import warnings\n",
    "from matplotlib.ticker import MultipleLocator\n",
    "warnings.filterwarnings('ignore')\n",
    "from time import process_time"
   ]
  },
  {
   "cell_type": "code",
   "execution_count": 13,
   "metadata": {},
   "outputs": [],
   "source": [
    "trips_yc_2016 = pd.read_csv('./Data/trip_data/yellow_tripdata_2016-06.csv' , low_memory=False)"
   ]
  },
  {
   "cell_type": "code",
   "execution_count": 14,
   "metadata": {},
   "outputs": [
    {
     "name": "stdout",
     "output_type": "stream",
     "text": [
      "<class 'pandas.core.frame.DataFrame'>\n",
      "RangeIndex: 11135470 entries, 0 to 11135469\n",
      "Data columns (total 19 columns):\n",
      "VendorID                 int64\n",
      "tpep_pickup_datetime     object\n",
      "tpep_dropoff_datetime    object\n",
      "passenger_count          int64\n",
      "trip_distance            float64\n",
      "pickup_longitude         float64\n",
      "pickup_latitude          float64\n",
      "RatecodeID               int64\n",
      "store_and_fwd_flag       object\n",
      "dropoff_longitude        float64\n",
      "dropoff_latitude         float64\n",
      "payment_type             int64\n",
      "fare_amount              float64\n",
      "extra                    float64\n",
      "mta_tax                  float64\n",
      "tip_amount               float64\n",
      "tolls_amount             float64\n",
      "improvement_surcharge    float64\n",
      "total_amount             float64\n",
      "dtypes: float64(12), int64(4), object(3)\n",
      "memory usage: 1.6+ GB\n"
     ]
    }
   ],
   "source": [
    "trips_yc_2016.info()"
   ]
  },
  {
   "cell_type": "code",
   "execution_count": 15,
   "metadata": {},
   "outputs": [
    {
     "name": "stdout",
     "output_type": "stream",
     "text": [
      "<class 'pandas.core.frame.DataFrame'>\n",
      "RangeIndex: 14776615 entries, 0 to 14776614\n",
      "Data columns (total 14 columns):\n",
      "medallion             object\n",
      "hack_license          object\n",
      "vendor_id             object\n",
      "rate_code             int64\n",
      "store_and_fwd_flag    object\n",
      "pickup_datetime       object\n",
      "dropoff_datetime      object\n",
      "passenger_count       int64\n",
      "trip_time_in_secs     int64\n",
      "trip_distance         float64\n",
      "pickup_longitude      float64\n",
      "pickup_latitude       float64\n",
      "dropoff_longitude     float64\n",
      "dropoff_latitude      float64\n",
      "dtypes: float64(5), int64(3), object(6)\n",
      "memory usage: 1.5+ GB\n"
     ]
    }
   ],
   "source": [
    "trips_yc_2013_p1 = pd.read_csv('./Data/trip_data/trip_data_1.csv' , low_memory=False)\n",
    "trips_yc_2013_p1.info()"
   ]
  },
  {
   "cell_type": "code",
   "execution_count": 16,
   "metadata": {},
   "outputs": [
    {
     "data": {
      "text/plain": [
       "medallion                   0\n",
       "hack_license                0\n",
       "vendor_id                   0\n",
       "rate_code                   0\n",
       "store_and_fwd_flag    7326207\n",
       "pickup_datetime             0\n",
       "dropoff_datetime            0\n",
       "passenger_count             0\n",
       "trip_time_in_secs           0\n",
       "trip_distance               0\n",
       "pickup_longitude            0\n",
       "pickup_latitude             0\n",
       "dropoff_longitude          86\n",
       "dropoff_latitude           86\n",
       "dtype: int64"
      ]
     },
     "execution_count": 16,
     "metadata": {},
     "output_type": "execute_result"
    }
   ],
   "source": [
    "trips_yc_2013_p1.isna().sum()"
   ]
  },
  {
   "cell_type": "code",
   "execution_count": 17,
   "metadata": {},
   "outputs": [],
   "source": [
    "def filter_df(df):\n",
    "    df = df.drop(columns = ['medallion', 'hack_license', 'vendor_id', 'store_and_fwd_flag'])\n",
    "    df = df.dropna()\n",
    "    return df"
   ]
  },
  {
   "cell_type": "code",
   "execution_count": 18,
   "metadata": {},
   "outputs": [],
   "source": [
    "def parse_timestamp(df):\n",
    "    \n",
    "    df['pickup_datetime'] = pd.to_datetime(df['pickup_datetime'])\n",
    "    df['dropoff_datetime '] = pd.to_datetime(df['dropoff_datetime']) \n",
    "    \n",
    "    df['PU_Hour'] = df['pickup_datetime'].dt.hour\n",
    "    df['DO_Hour'] = df['dropoff_datetime '].dt.hour\n",
    "    df['Month'] = df['pickup_datetime'].dt.strftime('%B')\n",
    "    df['Day'] = df['pickup_datetime'].dt.strftime('%A')\n",
    "    \n",
    "    return df"
   ]
  },
  {
   "cell_type": "code",
   "execution_count": 30,
   "metadata": {},
   "outputs": [
    {
     "name": "stdout",
     "output_type": "stream",
     "text": [
      "Found containing polygon: Manhattan\n"
     ]
    }
   ],
   "source": [
    "import json\n",
    "from shapely.geometry import shape, Point\n",
    "# depending on your version, use: from shapely.geometry import shape, Point\n",
    "\n",
    "# load GeoJSON file containing sectors\n",
    "with open('./Borough Boundaries.geojson') as f:\n",
    "    js = json.load(f)\n",
    "\n",
    "# construct point based on lon/lat returned by geocoder\n",
    "point = Point(-73.9911, 40.7359)\n",
    "\n",
    "# check each polygon to see if it contains the point\n",
    "for feature in js['features']:\n",
    "    polygon = shape(feature['geometry'])\n",
    "    if polygon.contains(point):\n",
    "        print ('Found containing polygon:', feature['properties']['boro_name'])"
   ]
  },
  {
   "cell_type": "code",
   "execution_count": 19,
   "metadata": {},
   "outputs": [
    {
     "name": "stdout",
     "output_type": "stream",
     "text": [
      "<class 'pandas.core.frame.DataFrame'>\n",
      "RangeIndex: 14776529 entries, 0 to 14776528\n",
      "Data columns (total 10 columns):\n",
      "rate_code            int64\n",
      "pickup_datetime      object\n",
      "dropoff_datetime     object\n",
      "passenger_count      int64\n",
      "trip_time_in_secs    int64\n",
      "trip_distance        float64\n",
      "pickup_longitude     float64\n",
      "pickup_latitude      float64\n",
      "dropoff_longitude    float64\n",
      "dropoff_latitude     float64\n",
      "dtypes: float64(5), int64(3), object(2)\n",
      "memory usage: 1.1+ GB\n"
     ]
    }
   ],
   "source": [
    "trips_yc_2013 = filter_df(trips_yc_2013_p1)\n",
    "trips_yc_2013 = trips_yc_2013.reset_index(drop=True)\n",
    "trips_yc_2013.info()"
   ]
  },
  {
   "cell_type": "code",
   "execution_count": 21,
   "metadata": {},
   "outputs": [
    {
     "data": {
      "text/html": [
       "<div>\n",
       "<style scoped>\n",
       "    .dataframe tbody tr th:only-of-type {\n",
       "        vertical-align: middle;\n",
       "    }\n",
       "\n",
       "    .dataframe tbody tr th {\n",
       "        vertical-align: top;\n",
       "    }\n",
       "\n",
       "    .dataframe thead th {\n",
       "        text-align: right;\n",
       "    }\n",
       "</style>\n",
       "<table border=\"1\" class=\"dataframe\">\n",
       "  <thead>\n",
       "    <tr style=\"text-align: right;\">\n",
       "      <th></th>\n",
       "      <th>rate_code</th>\n",
       "      <th>pickup_datetime</th>\n",
       "      <th>dropoff_datetime</th>\n",
       "      <th>passenger_count</th>\n",
       "      <th>trip_time_in_secs</th>\n",
       "      <th>trip_distance</th>\n",
       "      <th>pickup_longitude</th>\n",
       "      <th>pickup_latitude</th>\n",
       "      <th>dropoff_longitude</th>\n",
       "      <th>dropoff_latitude</th>\n",
       "      <th>dropoff_datetime</th>\n",
       "      <th>PU_Hour</th>\n",
       "      <th>DO_Hour</th>\n",
       "      <th>Month</th>\n",
       "      <th>Day</th>\n",
       "    </tr>\n",
       "  </thead>\n",
       "  <tbody>\n",
       "    <tr>\n",
       "      <td>0</td>\n",
       "      <td>1</td>\n",
       "      <td>2013-01-01 15:11:48</td>\n",
       "      <td>2013-01-01 15:18:10</td>\n",
       "      <td>4</td>\n",
       "      <td>382</td>\n",
       "      <td>1.0</td>\n",
       "      <td>-73.978165</td>\n",
       "      <td>40.757977</td>\n",
       "      <td>-73.989838</td>\n",
       "      <td>40.751171</td>\n",
       "      <td>2013-01-01 15:18:10</td>\n",
       "      <td>15</td>\n",
       "      <td>15</td>\n",
       "      <td>January</td>\n",
       "      <td>Tuesday</td>\n",
       "    </tr>\n",
       "    <tr>\n",
       "      <td>1</td>\n",
       "      <td>1</td>\n",
       "      <td>2013-01-06 00:18:35</td>\n",
       "      <td>2013-01-06 00:22:54</td>\n",
       "      <td>1</td>\n",
       "      <td>259</td>\n",
       "      <td>1.5</td>\n",
       "      <td>-74.006683</td>\n",
       "      <td>40.731781</td>\n",
       "      <td>-73.994499</td>\n",
       "      <td>40.750660</td>\n",
       "      <td>2013-01-06 00:22:54</td>\n",
       "      <td>0</td>\n",
       "      <td>0</td>\n",
       "      <td>January</td>\n",
       "      <td>Sunday</td>\n",
       "    </tr>\n",
       "    <tr>\n",
       "      <td>2</td>\n",
       "      <td>1</td>\n",
       "      <td>2013-01-05 18:49:41</td>\n",
       "      <td>2013-01-05 18:54:23</td>\n",
       "      <td>1</td>\n",
       "      <td>282</td>\n",
       "      <td>1.1</td>\n",
       "      <td>-74.004707</td>\n",
       "      <td>40.737770</td>\n",
       "      <td>-74.009834</td>\n",
       "      <td>40.726002</td>\n",
       "      <td>2013-01-05 18:54:23</td>\n",
       "      <td>18</td>\n",
       "      <td>18</td>\n",
       "      <td>January</td>\n",
       "      <td>Saturday</td>\n",
       "    </tr>\n",
       "    <tr>\n",
       "      <td>3</td>\n",
       "      <td>1</td>\n",
       "      <td>2013-01-07 23:54:15</td>\n",
       "      <td>2013-01-07 23:58:20</td>\n",
       "      <td>2</td>\n",
       "      <td>244</td>\n",
       "      <td>0.7</td>\n",
       "      <td>-73.974602</td>\n",
       "      <td>40.759945</td>\n",
       "      <td>-73.984734</td>\n",
       "      <td>40.759388</td>\n",
       "      <td>2013-01-07 23:58:20</td>\n",
       "      <td>23</td>\n",
       "      <td>23</td>\n",
       "      <td>January</td>\n",
       "      <td>Monday</td>\n",
       "    </tr>\n",
       "    <tr>\n",
       "      <td>4</td>\n",
       "      <td>1</td>\n",
       "      <td>2013-01-07 23:25:03</td>\n",
       "      <td>2013-01-07 23:34:24</td>\n",
       "      <td>1</td>\n",
       "      <td>560</td>\n",
       "      <td>2.1</td>\n",
       "      <td>-73.976250</td>\n",
       "      <td>40.748528</td>\n",
       "      <td>-74.002586</td>\n",
       "      <td>40.747868</td>\n",
       "      <td>2013-01-07 23:34:24</td>\n",
       "      <td>23</td>\n",
       "      <td>23</td>\n",
       "      <td>January</td>\n",
       "      <td>Monday</td>\n",
       "    </tr>\n",
       "  </tbody>\n",
       "</table>\n",
       "</div>"
      ],
      "text/plain": [
       "   rate_code     pickup_datetime     dropoff_datetime  passenger_count  \\\n",
       "0          1 2013-01-01 15:11:48  2013-01-01 15:18:10                4   \n",
       "1          1 2013-01-06 00:18:35  2013-01-06 00:22:54                1   \n",
       "2          1 2013-01-05 18:49:41  2013-01-05 18:54:23                1   \n",
       "3          1 2013-01-07 23:54:15  2013-01-07 23:58:20                2   \n",
       "4          1 2013-01-07 23:25:03  2013-01-07 23:34:24                1   \n",
       "\n",
       "   trip_time_in_secs  trip_distance  pickup_longitude  pickup_latitude  \\\n",
       "0                382            1.0        -73.978165        40.757977   \n",
       "1                259            1.5        -74.006683        40.731781   \n",
       "2                282            1.1        -74.004707        40.737770   \n",
       "3                244            0.7        -73.974602        40.759945   \n",
       "4                560            2.1        -73.976250        40.748528   \n",
       "\n",
       "   dropoff_longitude  dropoff_latitude   dropoff_datetime   PU_Hour  DO_Hour  \\\n",
       "0         -73.989838         40.751171 2013-01-01 15:18:10       15       15   \n",
       "1         -73.994499         40.750660 2013-01-06 00:22:54        0        0   \n",
       "2         -74.009834         40.726002 2013-01-05 18:54:23       18       18   \n",
       "3         -73.984734         40.759388 2013-01-07 23:58:20       23       23   \n",
       "4         -74.002586         40.747868 2013-01-07 23:34:24       23       23   \n",
       "\n",
       "     Month       Day  \n",
       "0  January   Tuesday  \n",
       "1  January    Sunday  \n",
       "2  January  Saturday  \n",
       "3  January    Monday  \n",
       "4  January    Monday  "
      ]
     },
     "execution_count": 21,
     "metadata": {},
     "output_type": "execute_result"
    }
   ],
   "source": [
    "trips_yc_2013 = parse_timestamp(trips_yc_2013)\n",
    "trips_yc_2013.head()"
   ]
  },
  {
   "cell_type": "code",
   "execution_count": 22,
   "metadata": {},
   "outputs": [
    {
     "data": {
      "text/plain": [
       "<matplotlib.axes._subplots.AxesSubplot at 0x26fd42bd688>"
      ]
     },
     "execution_count": 22,
     "metadata": {},
     "output_type": "execute_result"
    },
    {
     "data": {
      "image/png": "[encoded data removed]",
      "text/plain": [
       "<Figure size 432x288 with 1 Axes>"
      ]
     },
     "metadata": {
      "needs_background": "light"
     },
     "output_type": "display_data"
    }
   ],
   "source": [
    "trips_yc_2013['PU_Hour'].hist()"
   ]
  },
  {
   "cell_type": "code",
   "execution_count": null,
   "metadata": {},
   "outputs": [],
   "source": [
    "df_prep = parse_timestamp(df)\n",
    "df_prep.info()"
   ]
  },
  {
   "cell_type": "code",
   "execution_count": null,
   "metadata": {},
   "outputs": [],
   "source": [
    "df_prep = df_prep.loc[df_prep['total_amount'] < 200]\n",
    "df_prep = df_prep.loc[df_prep['total_amount'] > 0]"
   ]
  },
  {
   "cell_type": "code",
   "execution_count": null,
   "metadata": {},
   "outputs": [],
   "source": [
    "df_prep['total_amount'].hist(bins=100)\n",
    "plt.xlim(0,100)"
   ]
  },
  {
   "cell_type": "code",
   "execution_count": null,
   "metadata": {},
   "outputs": [],
   "source": [
    "df_prep['Count'] = 1"
   ]
  },
  {
   "cell_type": "code",
   "execution_count": null,
   "metadata": {},
   "outputs": [],
   "source": [
    "df_prep['Trip_Time'] = df_prep['tpep_dropoff_datetime']-df_prep['tpep_pickup_datetime']"
   ]
  },
  {
   "cell_type": "code",
   "execution_count": null,
   "metadata": {},
   "outputs": [],
   "source": [
    "df_prep.head()"
   ]
  },
  {
   "cell_type": "code",
   "execution_count": null,
   "metadata": {},
   "outputs": [],
   "source": [
    "nyc_coor = [40.7128, -74.0060]\n",
    "\n",
    "def generateBaseMap(default_location=nyc_coor, default_zoom_start=8.5):\n",
    "    base_map = folium.Map(location=default_location, control_scale=True, zoom_start=default_zoom_start)\n",
    "    return base_map"
   ]
  },
  {
   "cell_type": "code",
   "execution_count": null,
   "metadata": {},
   "outputs": [],
   "source": [
    "top10_pickup = df_prep.groupby(['pickup_latitude','pickup_longitude'])['medallion'].agg(['count']).sort_values(['count'],ascending=False).head(20)\n"
   ]
  },
  {
   "cell_type": "code",
   "execution_count": null,
   "metadata": {},
   "outputs": [],
   "source": [
    "\n",
    "base_map = generateBaseMap(default_zoom_start=12)\n",
    "for lat,long in top10_pickup.index:\n",
    "    folium.Marker([lat,long], popup='<i>Chicago City Center</i>').add_to(base_map)\n",
    "base_map.save('./Top5_pickup_locations.html')\n",
    "base_map"
   ]
  },
  {
   "cell_type": "code",
   "execution_count": null,
   "metadata": {},
   "outputs": [],
   "source": [
    "top10_dropoffs = df_prep.groupby(['dropoff_latitude','dropoff_longitude'])['Count'].agg(['count']).sort_values(['count'],ascending=False).head(20)\n"
   ]
  },
  {
   "cell_type": "code",
   "execution_count": null,
   "metadata": {},
   "outputs": [],
   "source": [
    "base_map = generateBaseMap(default_zoom_start=12)\n",
    "for lat,long in top10_pickup.index:\n",
    "    folium.Marker([lat,long], popup='<i>Chicago City Center</i>').add_to(base_map)\n",
    "base_map.save('./Top5_pickup_locations.html')\n",
    "base_map"
   ]
  },
  {
   "cell_type": "code",
   "execution_count": null,
   "metadata": {},
   "outputs": [],
   "source": []
  }
 ],
 "metadata": {
  "kernelspec": {
   "display_name": "Python 3",
   "language": "python",
   "name": "python3"
  },
  "language_info": {
   "codemirror_mode": {
    "name": "ipython",
    "version": 3
   },
   "file_extension": ".py",
   "mimetype": "text/x-python",
   "name": "python",
   "nbconvert_exporter": "python",
   "pygments_lexer": "ipython3",
   "version": "3.7.4"
  }
 },
 "nbformat": 4,
 "nbformat_minor": 2
}
